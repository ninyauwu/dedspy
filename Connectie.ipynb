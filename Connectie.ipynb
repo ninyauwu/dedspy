{
 "cells": [
  {
   "cell_type": "code",
   "execution_count": 1,
   "id": "initial_id",
   "metadata": {
    "ExecuteTime": {
     "end_time": "2024-03-11T14:08:08.644196800Z",
     "start_time": "2024-03-11T14:08:08.606803700Z"
    },
    "collapsed": true
   },
   "outputs": [
    {
     "name": "stderr",
     "output_type": "stream",
     "text": [
      "C:\\Users\\ybayu\\AppData\\Local\\Temp\\ipykernel_17024\\2698988305.py:1: DeprecationWarning: \n",
      "Pyarrow will become a required dependency of pandas in the next major release of pandas (pandas 3.0),\n",
      "(to allow more performant data types, such as the Arrow string type, and better interoperability with other libraries)\n",
      "but was not found to be installed on your system.\n",
      "If this would cause problems for you,\n",
      "please provide us feedback at https://github.com/pandas-dev/pandas/issues/54466\n",
      "        \n",
      "  import pandas as pd\n"
     ]
    }
   ],
   "source": [
    "import pandas as pd\n",
    "import pyodbc\n",
    "import sqlite3"
   ]
  },
  {
   "cell_type": "markdown",
   "id": "f83c796d33858297",
   "metadata": {
    "collapsed": false
   },
   "source": [
    "# Connection"
   ]
  },
  {
   "cell_type": "code",
   "execution_count": 2,
   "id": "5599548782bf7666",
   "metadata": {
    "ExecuteTime": {
     "end_time": "2024-03-11T14:08:08.673292400Z",
     "start_time": "2024-03-11T14:08:08.645167400Z"
    },
    "collapsed": false
   },
   "outputs": [
    {
     "data": {
      "text/plain": [
       "<pyodbc.Cursor at 0x1e0893235b0>"
      ]
     },
     "execution_count": 2,
     "metadata": {},
     "output_type": "execute_result"
    }
   ],
   "source": [
    "DB = {'servername': 'LAPTOP-39NVSGGD\\\\SQLEXPRESS', \n",
    "      'database' : 'DEDS' }\n",
    "export_conn = pyodbc.connect('DRIVER={SQL Server};SERVER=' + DB['servername'] + \n",
    "                            ';DATABASE=' + DB['database'] + ';Trusted_Connection=yes') \n",
    "export_cursor = export_conn.cursor()\n",
    "export_cursor"
   ]
  },
  {
   "cell_type": "code",
   "execution_count": 3,
   "id": "2fe2cbafb70042bf",
   "metadata": {
    "ExecuteTime": {
     "end_time": "2024-03-11T14:08:08.688822500Z",
     "start_time": "2024-03-11T14:08:08.662640500Z"
    },
    "collapsed": false
   },
   "outputs": [],
   "source": [
    "def select_from(name, connection):\n",
    "      dataframe = pd.read_sql_query(\"SELECT * FROM \" + name, connection)\n",
    "      \n",
    "      columni = {}\n",
    "      for column in dataframe.columns:\n",
    "            columni[column] = name.upper() + \"_\" + column.lower()\n",
    "      dataframe.rename(columns=columni, inplace=True)\n",
    "      return dataframe\n",
    "      \n",
    "\n",
    "def find_mutual_columns(dataset1, dataset2):\n",
    "      column_names = set([])\n",
    "      mutual_column_names = []\n",
    "      for column in dataset1:\n",
    "            column_names.add(column)\n",
    "      for column in dataset2:\n",
    "            if column in column_names:\n",
    "                  mutual_column_names.append(column)\n",
    "      return mutual_column_names\n",
    "\n",
    "def merge_differing_columns_simple(dataframe1, dataframe2, key):\n",
    "      # Pak de unieke columns uit de tweede dataframe\n",
    "      column_names1 = set(dataframe1.columns)\n",
    "      column_names2 = set(dataframe2.columns)\n",
    "      uniques_from_2 = [key]\n",
    "      for column in column_names2:\n",
    "            if column not in column_names1:\n",
    "                  uniques_from_2.append(column)\n",
    "      \n",
    "      # Merge deze met de eerste dataframe\n",
    "      return pd.merge(dataframe1, dataframe2.loc[:, uniques_from_2], on=key, how='left')\n",
    "\n",
    "def merge_differing_columns(dataframe1, dataframe2, left_key, right_key):\n",
    "      # Pak de unieke columns uit de tweede dataframe\n",
    "      column_names1 = set(dataframe1.columns)\n",
    "      column_names2 = set(dataframe2.columns)\n",
    "      uniques_from_2 = [right_key]\n",
    "      for column in column_names2:\n",
    "            if column not in column_names1:\n",
    "                  uniques_from_2.append(column)\n",
    "      \n",
    "      # Merge deze met de eerste dataframe\n",
    "      return pd.merge(dataframe1, dataframe2.loc[:, uniques_from_2], left_on=left_key, right_on=right_key, how='left')"
   ]
  },
  {
   "cell_type": "code",
   "execution_count": 4,
   "id": "6903c3026d5c8d50",
   "metadata": {
    "ExecuteTime": {
     "end_time": "2024-03-11T14:08:09.075095200Z",
     "start_time": "2024-03-11T14:08:08.670380200Z"
    },
    "collapsed": false
   },
   "outputs": [],
   "source": [
    "connectie_sales = sqlite3.connect('go_sales.sqlite')\n",
    "sql_query = \"SELECT name FROM sqlite_master WHERE type='table';\"\n",
    "\n",
    "product = select_from(\"product\", connectie_sales)\n",
    "product_type = select_from(\"product_type\", connectie_sales)\n",
    "product_line = select_from(\"product_line\", connectie_sales)\n",
    "SALES_sales_staff = select_from(\"sales_staff\", connectie_sales)\n",
    "SALES_sales_branch = select_from(\"sales_branch\", connectie_sales)\n",
    "SALES_retailer_site = select_from(\"retailer_site\", connectie_sales)\n",
    "SALES_country = select_from(\"country\", connectie_sales)\n",
    "order_header = select_from(\"order_header\", connectie_sales)\n",
    "order_details = select_from(\"order_details\", connectie_sales)\n",
    "order_method = select_from(\"order_method\", connectie_sales)\n",
    "target = select_from(\"SALES_TARGETData\", connectie_sales)\n",
    "returned_item = select_from(\"returned_item\", connectie_sales)\n",
    "return_reason = select_from(\"return_reason\", connectie_sales)\n",
    "sales_target = select_from(\"SALES_TARGETData\", connectie_sales)"
   ]
  },
  {
   "cell_type": "code",
   "execution_count": 5,
   "id": "c30411cd40a92b09",
   "metadata": {
    "ExecuteTime": {
     "end_time": "2024-03-11T14:08:09.086214900Z",
     "start_time": "2024-03-11T14:08:09.075095200Z"
    },
    "collapsed": false
   },
   "outputs": [],
   "source": [
    "connectie_staff = sqlite3.connect('go_staff.sqlite')\n",
    "\n",
    "course = select_from(\"course\", connectie_staff)\n",
    "STAFF_sales_staff = select_from(\"sales_staff\", connectie_staff)\n",
    "STAFF_sales_branch = select_from(\"sales_branch\", connectie_staff)\n",
    "satisfaction = select_from(\"satisfaction\", connectie_staff)\n",
    "satisfaction_type = select_from(\"satisfaction_type\", connectie_staff)\n",
    "training = select_from(\"training\", connectie_staff)"
   ]
  },
  {
   "cell_type": "code",
   "execution_count": 6,
   "id": "7027ebc3c3a4876b",
   "metadata": {
    "ExecuteTime": {
     "end_time": "2024-03-11T14:08:09.112644900Z",
     "start_time": "2024-03-11T14:08:09.089121800Z"
    },
    "collapsed": false
   },
   "outputs": [],
   "source": [
    "connectie_crm = sqlite3.connect('go_crm.sqlite')\n",
    "\n",
    "age_group = select_from(\"age_group\", connectie_crm)\n",
    "CRM_country = select_from(\"country\", connectie_crm)\n",
    "retailer = select_from(\"retailer\", connectie_crm)\n",
    "retailer_contact = select_from(\"retailer_contact\", connectie_crm)\n",
    "retailer_headquarters = select_from(\"retailer_headquarters\", connectie_crm)\n",
    "retailer_segment = select_from(\"retailer_segment\", connectie_crm)\n",
    "CRM_retailer_site = select_from(\"retailer_site\", connectie_crm)\n",
    "retailer_type = select_from(\"retailer_type\", connectie_crm)\n",
    "sales_demographic = select_from(\"sales_demographic\", connectie_crm)\n",
    "sales_territory = select_from(\"sales_territory\", connectie_crm)"
   ]
  },
  {
   "cell_type": "code",
   "execution_count": 7,
   "id": "fdf085d534e34793",
   "metadata": {
    "ExecuteTime": {
     "end_time": "2024-03-11T14:08:09.121373700Z",
     "start_time": "2024-03-11T14:08:09.110703300Z"
    },
    "collapsed": false
   },
   "outputs": [],
   "source": [
    "# CSV files\n",
    "inventory_levels = pd.read_csv('GO_SALES_INVENTORY_LEVELSData.csv')\n",
    "product_forecast = pd.read_csv('GO_SALES_PRODUCT_FORECASTData.csv')"
   ]
  },
  {
   "cell_type": "code",
   "execution_count": 8,
   "id": "b9f581b62b7ec28a",
   "metadata": {
    "ExecuteTime": {
     "end_time": "2024-03-11T14:08:09.132185Z",
     "start_time": "2024-03-11T14:08:09.122340600Z"
    },
    "collapsed": false
   },
   "outputs": [],
   "source": [
    "# Merge similar tables\n",
    "sales_staff = merge_differing_columns_simple(STAFF_sales_staff, SALES_sales_staff, 'SALES_STAFF_sales_staff_code')\n",
    "sales_branch = merge_differing_columns_simple(SALES_sales_branch, STAFF_sales_branch, 'SALES_BRANCH_sales_branch_code')\n",
    "country = merge_differing_columns_simple(SALES_country, CRM_country, 'COUNTRY_country_code')\n",
    "retailer_site = merge_differing_columns_simple(SALES_retailer_site, CRM_retailer_site, 'RETAILER_SITE_retailer_site_code')"
   ]
  },
  {
   "cell_type": "markdown",
   "id": "b3df4e2ab065c6e7",
   "metadata": {
    "collapsed": false
   },
   "source": [
    "# Nina"
   ]
  },
  {
   "cell_type": "code",
   "execution_count": 9,
   "id": "d01b4c4be4c48075",
   "metadata": {
    "ExecuteTime": {
     "end_time": "2024-03-11T14:08:09.142042900Z",
     "start_time": "2024-03-11T14:08:09.131215400Z"
    },
    "collapsed": false
   },
   "outputs": [],
   "source": [
    "# PRODUCT\n",
    "output_PRODUCT = pd.merge(product, product_type, left_on='PRODUCT_product_type_code', right_on='PRODUCT_TYPE_product_type_code', how='left')\n",
    "output_PRODUCT.drop('PRODUCT_TYPE_product_type_code', axis=1, inplace=True)\n",
    "output_PRODUCT = pd.merge(output_PRODUCT, product_line, left_on='PRODUCT_TYPE_product_line_code', right_on='PRODUCT_LINE_product_line_code', how='left')\n",
    "output_PRODUCT.drop('PRODUCT_LINE_product_line_code', axis=1, inplace=True)\n",
    "\n",
    "# RETURN_REASON\n",
    "output_RETURN_REASON = return_reason\n",
    "\n",
    "# SALES_TARGETData\n",
    "output_SALES_TARGETData = sales_target\n",
    "\n",
    "# PRODUCT_FORECASTData\n",
    "output_PRODUCT_FORECASTData = product_forecast\n",
    "\n",
    "# INVENTORY_LEVELSData\n",
    "output_INVENTORY_LEVELSData = inventory_levels"
   ]
  },
  {
   "cell_type": "markdown",
   "id": "cae0a27d32275659",
   "metadata": {
    "collapsed": false
   },
   "source": [
    "# Yemeserach"
   ]
  },
  {
   "cell_type": "code",
   "execution_count": 18,
   "id": "d16c3f0ff0c7047b",
   "metadata": {
    "ExecuteTime": {
     "end_time": "2024-03-11T14:08:09.142042900Z",
     "start_time": "2024-03-11T14:08:09.141073800Z"
    },
    "collapsed": false
   },
   "outputs": [],
   "source": [
    "# RETAILER_SITE\n",
    "output_RETAILER_SITE = pd.merge(retailer, retailer_type, left_on='RETAILER_retailer_type_code', right_on='RETAILER_TYPE_retailer_type_code', how='left')\n",
    "output_RETAILER_SITE.drop('RETAILER_TYPE_retailer_type_code', axis=1, inplace=True)\n",
    "output_RETAILER_SITE = pd.merge(output_RETAILER_SITE, retailer_site, left_on='RETAILER_retailer_code', right_on='RETAILER_SITE_retailer_code',  how='left')\n",
    "output_RETAILER_SITE.drop('RETAILER_retailer_code', axis=1, inplace=True)\n",
    "\n",
    "# COURSE\n",
    "output_COURSE = course\n",
    "\n",
    "# SATISFACTION_TYPE\n",
    "output_SATISFACTION_TYPE = satisfaction_type\n",
    "\n",
    "# SATISFACTION\n",
    "output_SATISFACTION = satisfaction\n",
    "\n",
    "# TRAINING \n",
    "output_training = training\n",
    "\n",
    "# ORDER_METHOD \n",
    "output_order_method = order_method"
   ]
  }
 ],
 "metadata": {
  "kernelspec": {
   "display_name": "Python 3",
   "language": "python",
   "name": "python3"
  },
  "language_info": {
   "codemirror_mode": {
    "name": "ipython",
    "version": 3
   },
   "file_extension": ".py",
   "mimetype": "text/x-python",
   "name": "python",
   "nbconvert_exporter": "python",
   "pygments_lexer": "ipython3",
   "version": "3.12.2"
  }
 },
 "nbformat": 4,
 "nbformat_minor": 5
}
