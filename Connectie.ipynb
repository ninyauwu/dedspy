{
 "cells": [
  {
   "cell_type": "code",
   "execution_count": 511,
   "id": "initial_id",
   "metadata": {
    "collapsed": true,
    "ExecuteTime": {
     "end_time": "2024-03-11T14:56:32.222389900Z",
     "start_time": "2024-03-11T14:56:32.188418400Z"
    }
   },
   "outputs": [],
   "source": [
    "import pandas as pd\n",
    "import pyodbc\n",
    "import sqlite3"
   ]
  },
  {
   "cell_type": "markdown",
   "source": [
    "# Connection"
   ],
   "metadata": {
    "collapsed": false
   },
   "id": "f83c796d33858297"
  },
  {
   "cell_type": "code",
   "outputs": [
    {
     "data": {
      "text/plain": "<pyodbc.Cursor at 0x243a19cd3b0>"
     },
     "execution_count": 512,
     "metadata": {},
     "output_type": "execute_result"
    }
   ],
   "source": [
    "DB = {\"servername\": \"MSI\\\\SQLEXPRESS\",\n",
    "      \"database\": \"DEDSDatabase1\"}\n",
    "\n",
    "export_conn = pyodbc.connect('DRIVER={SQL SERVER};SERVER=' + DB['servername'] + \n",
    "                             ';DATABASE=' + DB['database'] + ';Trusted_Connection=yes')\n",
    "export_cursor = export_conn.cursor()\n",
    "export_cursor"
   ],
   "metadata": {
    "collapsed": false,
    "ExecuteTime": {
     "end_time": "2024-03-11T14:56:32.238108500Z",
     "start_time": "2024-03-11T14:56:32.224330600Z"
    }
   },
   "id": "5599548782bf7666",
   "execution_count": 512
  },
  {
   "cell_type": "code",
   "outputs": [],
   "source": [
    "def select_from(name, connection):\n",
    "      dataframe = pd.read_sql_query(\"SELECT * FROM \" + name, connection)\n",
    "      \n",
    "      columni = {}\n",
    "      for column in dataframe.columns:\n",
    "            if \"TRIAL\" in column:\n",
    "                  dataframe.drop(column, axis=1, inplace=True)\n",
    "            \n",
    "            columni[column] = name.upper() + \"_\" + column.lower()\n",
    "      dataframe.rename(columns=columni, inplace=True)\n",
    "      return dataframe\n",
    "\n",
    "def find_mutual_columns(dataset1, dataset2):\n",
    "      column_names = set([])\n",
    "      mutual_column_names = []\n",
    "      for column in dataset1:\n",
    "            column_names.add(column)\n",
    "      for column in dataset2:\n",
    "            if column in column_names:\n",
    "                  mutual_column_names.append(column)\n",
    "      return mutual_column_names\n",
    "\n",
    "def merge_differing_columns_simple(dataframe1, dataframe2, key):\n",
    "      # Pak de unieke columns uit de tweede dataframe\n",
    "      column_names1 = set(dataframe1.columns)\n",
    "      column_names2 = set(dataframe2.columns)\n",
    "      uniques_from_2 = [key]\n",
    "      for column in column_names2:\n",
    "            if column not in column_names1:\n",
    "                  uniques_from_2.append(column)\n",
    "      \n",
    "      # Merge deze met de eerste dataframe\n",
    "      return pd.merge(dataframe1, dataframe2.loc[:, uniques_from_2], on=key, how='left')\n",
    "\n",
    "def merge_differing_columns(dataframe1, dataframe2, left_key, right_key):\n",
    "      # Pak de unieke columns uit de tweede dataframe\n",
    "      column_names1 = set(dataframe1.columns)\n",
    "      column_names2 = set(dataframe2.columns)\n",
    "      uniques_from_2 = [right_key]\n",
    "      for column in column_names2:\n",
    "            if column not in column_names1:\n",
    "                  uniques_from_2.append(column)\n",
    "      \n",
    "      # Merge deze met de eerste dataframe\n",
    "      return pd.merge(dataframe1, dataframe2.loc[:, uniques_from_2], left_on=left_key, right_on=right_key, how='left')\n",
    "\n",
    "def send_to_ssms(dataframe, target_name, cursor):\n",
    "      column_string = \"(\"\n",
    "      i = 0\n",
    "      for column in dataframe.columns:\n",
    "            column_string += column\n",
    "            if i == dataframe.columns.size - 1:\n",
    "                  column_string += \")\"\n",
    "            else:\n",
    "                  column_string += \", \"\n",
    "            i += 1\n",
    "          \n",
    "      \n",
    "      for index, row in dataframe.iterrows():\n",
    "            i = 0\n",
    "            value_string = \"(\"\n",
    "            for column in dataframe.columns:\n",
    "                  value_string += row[column]\n",
    "                  if i == dataframe.columns.size - 1:\n",
    "                        value_string += \")\"\n",
    "                  else:\n",
    "                        value_string += \", \"\n",
    "                  i += 1\n",
    "            query = \"INSERT INTO \" + target_name + \" \" + column_string + \" VALUES \" + value_string + \";\"\n",
    "            print(query)\n",
    "            break\n",
    "      #print(value_string)"
   ],
   "metadata": {
    "collapsed": false,
    "ExecuteTime": {
     "end_time": "2024-03-11T14:56:32.258325100Z",
     "start_time": "2024-03-11T14:56:32.237136100Z"
    }
   },
   "id": "2fe2cbafb70042bf",
   "execution_count": 513
  },
  {
   "cell_type": "code",
   "outputs": [],
   "source": [
    "connectie_sales = sqlite3.connect('go_sales.sqlite')\n",
    "sql_query = \"SELECT name FROM sqlite_master WHERE type='table';\"\n",
    "\n",
    "product = select_from(\"product\", connectie_sales)\n",
    "product_type = select_from(\"product_type\", connectie_sales)\n",
    "product_line = select_from(\"product_line\", connectie_sales)\n",
    "SALES_sales_staff = select_from(\"sales_staff\", connectie_sales)\n",
    "SALES_sales_branch = select_from(\"sales_branch\", connectie_sales)\n",
    "SALES_retailer_site = select_from(\"retailer_site\", connectie_sales)\n",
    "SALES_country = select_from(\"country\", connectie_sales)\n",
    "order_header = select_from(\"order_header\", connectie_sales)\n",
    "order_details = select_from(\"order_details\", connectie_sales)\n",
    "order_method = select_from(\"order_method\", connectie_sales)\n",
    "target = select_from(\"SALES_TARGETData\", connectie_sales)\n",
    "returned_item = select_from(\"returned_item\", connectie_sales)\n",
    "return_reason = select_from(\"return_reason\", connectie_sales)\n",
    "sales_target = select_from(\"SALES_TARGETData\", connectie_sales)"
   ],
   "metadata": {
    "collapsed": false,
    "ExecuteTime": {
     "end_time": "2024-03-11T14:56:32.654776900Z",
     "start_time": "2024-03-11T14:56:32.247657200Z"
    }
   },
   "id": "6903c3026d5c8d50",
   "execution_count": 514
  },
  {
   "cell_type": "code",
   "outputs": [],
   "source": [
    "connectie_staff = sqlite3.connect('go_staff.sqlite')\n",
    "\n",
    "course = select_from(\"course\", connectie_staff)\n",
    "STAFF_sales_staff = select_from(\"sales_staff\", connectie_staff)\n",
    "STAFF_sales_branch = select_from(\"sales_branch\", connectie_staff)\n",
    "satisfaction = select_from(\"satisfaction\", connectie_staff)\n",
    "satisfaction_type = select_from(\"satisfaction_type\", connectie_staff)\n",
    "training = select_from(\"training\", connectie_staff)"
   ],
   "metadata": {
    "collapsed": false,
    "ExecuteTime": {
     "end_time": "2024-03-11T14:56:32.667307700Z",
     "start_time": "2024-03-11T14:56:32.655747700Z"
    }
   },
   "id": "c30411cd40a92b09",
   "execution_count": 515
  },
  {
   "cell_type": "code",
   "outputs": [],
   "source": [
    "connectie_crm = sqlite3.connect('go_crm.sqlite')\n",
    "\n",
    "age_group = select_from(\"age_group\", connectie_crm)\n",
    "CRM_country = select_from(\"country\", connectie_crm)\n",
    "retailer = select_from(\"retailer\", connectie_crm)\n",
    "retailer_contact = select_from(\"retailer_contact\", connectie_crm)\n",
    "retailer_headquarters = select_from(\"retailer_headquarters\", connectie_crm)\n",
    "retailer_segment = select_from(\"retailer_segment\", connectie_crm)\n",
    "CRM_retailer_site = select_from(\"retailer_site\", connectie_crm)\n",
    "retailer_type = select_from(\"retailer_type\", connectie_crm)\n",
    "sales_demographic = select_from(\"sales_demographic\", connectie_crm)\n",
    "sales_territory = select_from(\"sales_territory\", connectie_crm)"
   ],
   "metadata": {
    "collapsed": false,
    "ExecuteTime": {
     "end_time": "2024-03-11T14:56:32.692741Z",
     "start_time": "2024-03-11T14:56:32.670219100Z"
    }
   },
   "id": "7027ebc3c3a4876b",
   "execution_count": 516
  },
  {
   "cell_type": "code",
   "outputs": [],
   "source": [
    "# CSV files\n",
    "inventory_levels = pd.read_csv('GO_SALES_INVENTORY_LEVELSData.csv')\n",
    "product_forecast = pd.read_csv('GO_SALES_PRODUCT_FORECASTData.csv')"
   ],
   "metadata": {
    "collapsed": false,
    "ExecuteTime": {
     "end_time": "2024-03-11T14:56:32.707822700Z",
     "start_time": "2024-03-11T14:56:32.693711700Z"
    }
   },
   "id": "fdf085d534e34793",
   "execution_count": 517
  },
  {
   "cell_type": "code",
   "outputs": [],
   "source": [
    "# Merge similar tables\n",
    "sales_staff = merge_differing_columns_simple(STAFF_sales_staff, SALES_sales_staff, 'SALES_STAFF_sales_staff_code')\n",
    "sales_branch = merge_differing_columns_simple(SALES_sales_branch, STAFF_sales_branch, 'SALES_BRANCH_sales_branch_code')\n",
    "country = merge_differing_columns_simple(SALES_country, CRM_country, 'COUNTRY_country_code')\n",
    "retailer_site = merge_differing_columns_simple(SALES_retailer_site, CRM_retailer_site, 'RETAILER_SITE_retailer_site_code')"
   ],
   "metadata": {
    "collapsed": false,
    "ExecuteTime": {
     "end_time": "2024-03-11T14:56:32.716604700Z",
     "start_time": "2024-03-11T14:56:32.701999600Z"
    }
   },
   "id": "b9f581b62b7ec28a",
   "execution_count": 518
  },
  {
   "cell_type": "markdown",
   "source": [
    "# Nina"
   ],
   "metadata": {
    "collapsed": false
   },
   "id": "b3df4e2ab065c6e7"
  },
  {
   "cell_type": "code",
   "outputs": [
    {
     "name": "stdout",
     "output_type": "stream",
     "text": [
      "INSERT INTO ORDER_DETAILS (RETURNED_ITEM_return_code, RETURNED_ITEM_return_date, RETURNED_ITEM_order_detail_code, RETURNED_ITEM_return_reason_code, RETURNED_ITEM_return_quantity) VALUES (1491, 1-8-2021 04:10:24, 84858, 5, 8);\n"
     ]
    }
   ],
   "source": [
    "# PRODUCT\n",
    "output_PRODUCT = pd.merge(product, product_type, left_on='PRODUCT_product_type_code', right_on='PRODUCT_TYPE_product_type_code', how='left')\n",
    "output_PRODUCT.drop('PRODUCT_TYPE_product_type_code', axis=1, inplace=True)\n",
    "output_PRODUCT = pd.merge(output_PRODUCT, product_line, left_on='PRODUCT_TYPE_product_line_code', right_on='PRODUCT_LINE_product_line_code', how='left')\n",
    "output_PRODUCT.drop('PRODUCT_LINE_product_line_code', axis=1, inplace=True)\n",
    "\n",
    "# RETURN_REASON\n",
    "output_RETURN_REASON = return_reason\n",
    "\n",
    "# SALES_TARGETData\n",
    "output_SALES_TARGETData = sales_target\n",
    "\n",
    "# PRODUCT_FORECASTData\n",
    "output_PRODUCT_FORECASTData = product_forecast\n",
    "\n",
    "# INVENTORY_LEVELSData\n",
    "output_INVENTORY_LEVELSData = inventory_levels\n",
    "\n",
    "# SALES_STAFF\n",
    "output_SALES_STAFF = pd.merge(sales_staff, sales_branch, left_on='SALES_STAFF_sales_branch_code', right_on='SALES_BRANCH_sales_branch_code')\n",
    "output_SALES_STAFF.drop('SALES_BRANCH_sales_branch_code', axis=1)\n",
    "output_SALES_STAFF = pd.merge(output_SALES_STAFF, country, left_on='SALES_BRANCH_country_code', right_on='COUNTRY_country_code')\n",
    "output_SALES_STAFF.drop('COUNTRY_country_code', axis=1, inplace=True)\n",
    "\n",
    "# ORDER_DETAILS\n",
    "output_ORDER_DETAILS = pd.merge(order_details, order_header, left_on='ORDER_DETAILS_order_number', right_on='ORDER_HEADER_order_number')\n",
    "output_ORDER_DETAILS.drop('ORDER_HEADER_order_number', axis=1, inplace=True)\n",
    "\n",
    "# RETURNED_ITEM\n",
    "output_RETURNED_ITEM = returned_item\n",
    "\n",
    "# ORDER METHOD\n",
    "output_ORDER_METHOD = order_method\n",
    "\n",
    "send_to_ssms(returned_item, 'ORDER_DETAILS', export_cursor)"
   ],
   "metadata": {
    "collapsed": false,
    "ExecuteTime": {
     "end_time": "2024-03-11T14:56:32.769286800Z",
     "start_time": "2024-03-11T14:56:32.714661800Z"
    }
   },
   "id": "d01b4c4be4c48075",
   "execution_count": 519
  },
  {
   "cell_type": "markdown",
   "source": [
    "# Yemeserach"
   ],
   "metadata": {
    "collapsed": false
   },
   "id": "cae0a27d32275659"
  },
  {
   "cell_type": "code",
   "outputs": [],
   "source": [
    "# RETAILER_SITE\n",
    "output_RETAILER_SITE = pd.merge(retailer, retailer_type, left_on='RETAILER_retailer_type_code', right_on='RETAILER_TYPE_retailer_type_code', how='left')\n",
    "output_RETAILER_SITE.drop('RETAILER_TYPE_retailer_type_code', axis=1, inplace=True)\n",
    "output_RETAILER_SITE = pd.merge(output_RETAILER_SITE, retailer_site, left_on='RETAILER_retailer_code', right_on='RETAILER_SITE_retailer_code',  how='left')\n",
    "output_RETAILER_SITE.drop('RETAILER_retailer_code', axis=1, inplace=True)\n",
    "\n",
    "# COURSE\n",
    "output_COURSE = course\n",
    "\n",
    "# SATISFACTION_TYPE\n",
    "output_SATISFACTION_TYPE = satisfaction_type\n",
    "\n",
    "# SATISFACTION\n",
    "output_SATISFACTION = satisfaction\n",
    "\n",
    "# TRAINING \n",
    "output_training = training\n",
    "\n",
    "# ORDER_METHOD \n",
    "output_order_method = order_method"
   ],
   "metadata": {
    "collapsed": false,
    "ExecuteTime": {
     "end_time": "2024-03-11T14:56:32.776116400Z",
     "start_time": "2024-03-11T14:56:32.770279300Z"
    }
   },
   "id": "d16c3f0ff0c7047b",
   "execution_count": 519
  }
 ],
 "metadata": {
  "kernelspec": {
   "display_name": "Python 3",
   "language": "python",
   "name": "python3"
  },
  "language_info": {
   "codemirror_mode": {
    "name": "ipython",
    "version": 2
   },
   "file_extension": ".py",
   "mimetype": "text/x-python",
   "name": "python",
   "nbconvert_exporter": "python",
   "pygments_lexer": "ipython2",
   "version": "2.7.6"
  }
 },
 "nbformat": 4,
 "nbformat_minor": 5
}
