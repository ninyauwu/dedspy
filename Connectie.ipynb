{
 "cells": [
  {
   "cell_type": "code",
   "execution_count": 1,
   "id": "initial_id",
   "metadata": {
    "collapsed": true,
    "ExecuteTime": {
     "end_time": "2024-03-18T13:17:21.956169800Z",
     "start_time": "2024-03-18T13:17:20.495949Z"
    }
   },
   "outputs": [
    {
     "name": "stderr",
     "output_type": "stream",
     "text": [
      "C:\\Users\\alexb\\AppData\\Local\\Temp\\ipykernel_37872\\2515620482.py:1: DeprecationWarning: \n",
      "Pyarrow will become a required dependency of pandas in the next major release of pandas (pandas 3.0),\n",
      "(to allow more performant data types, such as the Arrow string type, and better interoperability with other libraries)\n",
      "but was not found to be installed on your system.\n",
      "If this would cause problems for you,\n",
      "please provide us feedback at https://github.com/pandas-dev/pandas/issues/54466\n",
      "        \n",
      "  import pandas as pd\n"
     ]
    }
   ],
   "source": [
    "import pandas as pd\n",
    "import pyodbc\n",
    "import sqlite3"
   ]
  },
  {
   "cell_type": "markdown",
   "source": [
    "# Connection"
   ],
   "metadata": {
    "collapsed": false
   },
   "id": "f83c796d33858297"
  },
  {
   "cell_type": "code",
   "outputs": [
    {
     "data": {
      "text/plain": "<pyodbc.Cursor at 0x24a296e2db0>"
     },
     "execution_count": 2,
     "metadata": {},
     "output_type": "execute_result"
    }
   ],
   "source": [
    "DB = {\"servername\": \"MSI\\\\SQLEXPRESS\",\n",
    "      \"database\": \"DEDSDatabase1\"}\n",
    "\n",
    "export_conn = pyodbc.connect('DRIVER={SQL SERVER};SERVER=' + DB['servername'] + \n",
    "                             ';DATABASE=' + DB['database'] + ';Trusted_Connection=yes')\n",
    "export_cursor = export_conn.cursor()\n",
    "export_cursor"
   ],
   "metadata": {
    "collapsed": false,
    "ExecuteTime": {
     "end_time": "2024-03-18T13:17:22.427491900Z",
     "start_time": "2024-03-18T13:17:21.959084100Z"
    }
   },
   "id": "5599548782bf7666",
   "execution_count": 2
  },
  {
   "cell_type": "code",
   "outputs": [],
   "source": [
    "def select_from(name, connection):\n",
    "      dataframe = pd.read_sql_query(\"SELECT * FROM \" + name, connection)\n",
    "      \n",
    "      columni = {}\n",
    "      for column in dataframe.columns:\n",
    "            if \"TRIAL\" in column:\n",
    "                  dataframe.drop(column, axis=1, inplace=True)\n",
    "            \n",
    "            columni[column] = name.upper() + \"_\" + column.lower()\n",
    "      dataframe.rename(columns=columni, inplace=True)\n",
    "      return dataframe\n",
    "\n",
    "# Automatically creates a surrogate column from the first column in the dataframe, under the assumption it is the primary key\n",
    "def select_from_with_surrogate(name, connection):\n",
    "      dataframe = pd.read_sql_query(\"SELECT * FROM \" + name, connection)\n",
    "      dataframe[dataframe.columns[0] + '_surrogate'] = range(len(dataframe))\n",
    "      \n",
    "      columni = {}\n",
    "      for column in dataframe.columns:\n",
    "            if \"TRIAL\" in column:\n",
    "                  dataframe.drop(column, axis=1, inplace=True)\n",
    "            \n",
    "            columni[column] = name.upper() + \"_\" + column.lower()\n",
    "      dataframe.rename(columns=columni, inplace=True)\n",
    "      return dataframe\n",
    "\n",
    "def find_mutual_columns(dataset1, dataset2):\n",
    "      column_names = set([])\n",
    "      mutual_column_names = []\n",
    "      for column in dataset1:\n",
    "            column_names.add(column)\n",
    "      for column in dataset2:\n",
    "            if column in column_names:\n",
    "                  mutual_column_names.append(column)\n",
    "      return mutual_column_names\n",
    "\n",
    "def merge_differing_columns_simple(dataframe1, dataframe2, key):\n",
    "      # Pak de unieke columns uit de tweede dataframe\n",
    "      column_names1 = set(dataframe1.columns)\n",
    "      column_names2 = set(dataframe2.columns)\n",
    "      uniques_from_2 = [key]\n",
    "      for column in column_names2:\n",
    "            if column not in column_names1:\n",
    "                  uniques_from_2.append(column)\n",
    "      \n",
    "      # Merge deze met de eerste dataframe\n",
    "      return pd.merge(dataframe1, dataframe2.loc[:, uniques_from_2], on=key, how='left')\n",
    "\n",
    "def merge_differing_columns(dataframe1, dataframe2, left_key, right_key):\n",
    "      # Pak de unieke columns uit de tweede dataframe\n",
    "      column_names1 = set(dataframe1.columns)\n",
    "      column_names2 = set(dataframe2.columns)\n",
    "      uniques_from_2 = [right_key]\n",
    "      for column in column_names2:\n",
    "            if column not in column_names1:\n",
    "                  uniques_from_2.append(column)\n",
    "      \n",
    "      # Merge deze met de eerste dataframe\n",
    "      return pd.merge(dataframe1, dataframe2.loc[:, uniques_from_2], left_on=left_key, right_on=right_key, how='left')\n",
    "\n",
    "def send_to_ssms(dataframe, target_name, cursor, conn):\n",
    "      cursor.execute(\"DELETE FROM \" + target_name)\n",
    "      conn.commit()\n",
    "      column_string = \"(\"\n",
    "      value_string = \"(\"\n",
    "      i = 0\n",
    "      for column in dataframe.columns:\n",
    "            column_string += column\n",
    "            value_string += \"?\"\n",
    "            if i == dataframe.columns.size - 1:\n",
    "                  column_string += \")\"\n",
    "                  value_string += \")\"\n",
    "            else:\n",
    "                  column_string += \", \"\n",
    "                  value_string += \", \"\n",
    "            i += 1\n",
    "          \n",
    "      \n",
    "      for index, row in dataframe.iterrows():\n",
    "            values = []\n",
    "            for column in dataframe.columns:\n",
    "                  values.append(str(row[column]))\n",
    "            query = \"INSERT INTO \" + target_name + \" \" + column_string + \" VALUES \" + value_string + \";\"\n",
    "            cursor.execute(query, values)\n",
    "      conn.commit()\n",
    "      #print(value_string)\n",
    "      \n",
    "def send_to_ssms_upper(dataframe, target_name, cursor, conn):\n",
    "      cursor.execute(\"DELETE FROM \" + target_name)\n",
    "      conn.commit()\n",
    "      column_string = \"(\"\n",
    "      value_string = \"(\"\n",
    "      i = 0\n",
    "      for column in dataframe.columns:\n",
    "            column_string += column\n",
    "            value_string += \"?\"\n",
    "            if i == dataframe.columns.size - 1:\n",
    "                  column_string += \")\"\n",
    "                  value_string += \")\"\n",
    "            else:\n",
    "                  column_string += \", \"\n",
    "                  value_string += \", \"\n",
    "            i += 1\n",
    "          \n",
    "      \n",
    "      for index, row in dataframe.iterrows():\n",
    "            values = []\n",
    "            for column in dataframe.columns:\n",
    "                  values.append(str(row[column]))\n",
    "            query = \"INSERT INTO \" + target_name + \" \" + column_string.upper() + \" VALUES \" + value_string + \";\"\n",
    "            cursor.execute(query, values)\n",
    "      conn.commit()"
   ],
   "metadata": {
    "collapsed": false,
    "ExecuteTime": {
     "end_time": "2024-03-18T13:17:22.446130100Z",
     "start_time": "2024-03-18T13:17:22.426521200Z"
    }
   },
   "id": "2fe2cbafb70042bf",
   "execution_count": 3
  },
  {
   "cell_type": "code",
   "outputs": [
    {
     "data": {
      "text/plain": "    PRODUCT_product_number PRODUCT_introduction_date  \\\n0                        1                 15-2-2011   \n1                       10                 15-2-2011   \n2                      100                 15-2-2011   \n3                      101                15-12-2019   \n4                      102                10-12-2019   \n..                     ...                       ...   \n110                     95                 15-2-2011   \n111                     96                 15-2-2011   \n112                     97                  5-3-2013   \n113                     98                 15-2-2011   \n114                     99                 15-2-2011   \n\n    PRODUCT_product_type_code PRODUCT_production_cost PRODUCT_margin  \\\n0                           1                       4            .33   \n1                           1                      10             .4   \n2                          17                       3             .5   \n3                          18                  305.54            .43   \n4                          18                  380.95            .51   \n..                        ...                     ...            ...   \n110                        16                       3             .5   \n111                        17                   16.43            .28   \n112                        17                      25            .28   \n113                        17                       3             .5   \n114                        17                       2             .6   \n\n    PRODUCT_product_image PRODUCT_language      PRODUCT_product_name  \\\n0           P01CE1CG1.jpg               EN       TrailChef Water Bag   \n1           P10CE1CG1.jpg               EN        TrailChef Utensils   \n2         P100OP4FA17.jpg               EN        Insect Bite Relief   \n3         P101GE5IR18.jpg               EN     Hailstorm Steel Irons   \n4         P102GE5IR18.jpg               EN  Hailstorm Titanium Irons   \n..                    ...              ...                       ...   \n110        P91OP4SS16.jpg               EN                Sun Shield   \n111        P96OP4FA17.jpg               EN        Compact Relief Kit   \n112        P96OP4FA17.jpg               EN  Deluxe Family Relief Kit   \n113        P98OP4FA17.jpg               EN           Calamine Relief   \n114        P99OP4FA17.jpg               EN               Aloe Relief   \n\n                                   PRODUCT_description  \\\n0    Lightweight, collapsible bag to carry liquids ...   \n1    Spoon, fork and knife set made of a light yet ...   \n2    The Insect Bite Relief helps the itching and s...   \n3    Iron is 17-4 stainless steel.  Shafts are grap...   \n4    Made entirely of pure titanium. The ultimate i...   \n..                                                 ...   \n110  PABA free sunscreen, SPF 30, poison oak and iv...   \n111  A personal first aid kit is recommended for ev...   \n112  A complete medical kit suitable for families w...   \n113  Use the Calamine Relief for allergic skin reac...   \n114  Perfect for minor burns and sunburn, the aloe ...   \n\n     PRODUCT_product_number_surrogate  \n0                                   0  \n1                                   1  \n2                                   2  \n3                                   3  \n4                                   4  \n..                                ...  \n110                               110  \n111                               111  \n112                               112  \n113                               113  \n114                               114  \n\n[115 rows x 10 columns]",
      "text/html": "<div>\n<style scoped>\n    .dataframe tbody tr th:only-of-type {\n        vertical-align: middle;\n    }\n\n    .dataframe tbody tr th {\n        vertical-align: top;\n    }\n\n    .dataframe thead th {\n        text-align: right;\n    }\n</style>\n<table border=\"1\" class=\"dataframe\">\n  <thead>\n    <tr style=\"text-align: right;\">\n      <th></th>\n      <th>PRODUCT_product_number</th>\n      <th>PRODUCT_introduction_date</th>\n      <th>PRODUCT_product_type_code</th>\n      <th>PRODUCT_production_cost</th>\n      <th>PRODUCT_margin</th>\n      <th>PRODUCT_product_image</th>\n      <th>PRODUCT_language</th>\n      <th>PRODUCT_product_name</th>\n      <th>PRODUCT_description</th>\n      <th>PRODUCT_product_number_surrogate</th>\n    </tr>\n  </thead>\n  <tbody>\n    <tr>\n      <th>0</th>\n      <td>1</td>\n      <td>15-2-2011</td>\n      <td>1</td>\n      <td>4</td>\n      <td>.33</td>\n      <td>P01CE1CG1.jpg</td>\n      <td>EN</td>\n      <td>TrailChef Water Bag</td>\n      <td>Lightweight, collapsible bag to carry liquids ...</td>\n      <td>0</td>\n    </tr>\n    <tr>\n      <th>1</th>\n      <td>10</td>\n      <td>15-2-2011</td>\n      <td>1</td>\n      <td>10</td>\n      <td>.4</td>\n      <td>P10CE1CG1.jpg</td>\n      <td>EN</td>\n      <td>TrailChef Utensils</td>\n      <td>Spoon, fork and knife set made of a light yet ...</td>\n      <td>1</td>\n    </tr>\n    <tr>\n      <th>2</th>\n      <td>100</td>\n      <td>15-2-2011</td>\n      <td>17</td>\n      <td>3</td>\n      <td>.5</td>\n      <td>P100OP4FA17.jpg</td>\n      <td>EN</td>\n      <td>Insect Bite Relief</td>\n      <td>The Insect Bite Relief helps the itching and s...</td>\n      <td>2</td>\n    </tr>\n    <tr>\n      <th>3</th>\n      <td>101</td>\n      <td>15-12-2019</td>\n      <td>18</td>\n      <td>305.54</td>\n      <td>.43</td>\n      <td>P101GE5IR18.jpg</td>\n      <td>EN</td>\n      <td>Hailstorm Steel Irons</td>\n      <td>Iron is 17-4 stainless steel.  Shafts are grap...</td>\n      <td>3</td>\n    </tr>\n    <tr>\n      <th>4</th>\n      <td>102</td>\n      <td>10-12-2019</td>\n      <td>18</td>\n      <td>380.95</td>\n      <td>.51</td>\n      <td>P102GE5IR18.jpg</td>\n      <td>EN</td>\n      <td>Hailstorm Titanium Irons</td>\n      <td>Made entirely of pure titanium. The ultimate i...</td>\n      <td>4</td>\n    </tr>\n    <tr>\n      <th>...</th>\n      <td>...</td>\n      <td>...</td>\n      <td>...</td>\n      <td>...</td>\n      <td>...</td>\n      <td>...</td>\n      <td>...</td>\n      <td>...</td>\n      <td>...</td>\n      <td>...</td>\n    </tr>\n    <tr>\n      <th>110</th>\n      <td>95</td>\n      <td>15-2-2011</td>\n      <td>16</td>\n      <td>3</td>\n      <td>.5</td>\n      <td>P91OP4SS16.jpg</td>\n      <td>EN</td>\n      <td>Sun Shield</td>\n      <td>PABA free sunscreen, SPF 30, poison oak and iv...</td>\n      <td>110</td>\n    </tr>\n    <tr>\n      <th>111</th>\n      <td>96</td>\n      <td>15-2-2011</td>\n      <td>17</td>\n      <td>16.43</td>\n      <td>.28</td>\n      <td>P96OP4FA17.jpg</td>\n      <td>EN</td>\n      <td>Compact Relief Kit</td>\n      <td>A personal first aid kit is recommended for ev...</td>\n      <td>111</td>\n    </tr>\n    <tr>\n      <th>112</th>\n      <td>97</td>\n      <td>5-3-2013</td>\n      <td>17</td>\n      <td>25</td>\n      <td>.28</td>\n      <td>P96OP4FA17.jpg</td>\n      <td>EN</td>\n      <td>Deluxe Family Relief Kit</td>\n      <td>A complete medical kit suitable for families w...</td>\n      <td>112</td>\n    </tr>\n    <tr>\n      <th>113</th>\n      <td>98</td>\n      <td>15-2-2011</td>\n      <td>17</td>\n      <td>3</td>\n      <td>.5</td>\n      <td>P98OP4FA17.jpg</td>\n      <td>EN</td>\n      <td>Calamine Relief</td>\n      <td>Use the Calamine Relief for allergic skin reac...</td>\n      <td>113</td>\n    </tr>\n    <tr>\n      <th>114</th>\n      <td>99</td>\n      <td>15-2-2011</td>\n      <td>17</td>\n      <td>2</td>\n      <td>.6</td>\n      <td>P99OP4FA17.jpg</td>\n      <td>EN</td>\n      <td>Aloe Relief</td>\n      <td>Perfect for minor burns and sunburn, the aloe ...</td>\n      <td>114</td>\n    </tr>\n  </tbody>\n</table>\n<p>115 rows × 10 columns</p>\n</div>"
     },
     "execution_count": 4,
     "metadata": {},
     "output_type": "execute_result"
    }
   ],
   "source": [
    "connectie_sales = sqlite3.connect('go_sales.sqlite')\n",
    "sql_query = \"SELECT name FROM sqlite_master WHERE type='table';\"\n",
    "\n",
    "product = select_from_with_surrogate(\"product\", connectie_sales)\n",
    "product_type = select_from(\"product_type\", connectie_sales)\n",
    "product_line = select_from(\"product_line\", connectie_sales)\n",
    "SALES_sales_staff = select_from_with_surrogate(\"sales_staff\", connectie_sales)\n",
    "SALES_sales_branch = select_from(\"sales_branch\", connectie_sales)\n",
    "SALES_retailer_site = select_from(\"retailer_site\", connectie_sales)\n",
    "SALES_country = select_from(\"country\", connectie_sales)\n",
    "order_header = select_from(\"order_header\", connectie_sales)\n",
    "order_details = select_from(\"order_details\", connectie_sales)\n",
    "order_method = select_from_with_surrogate(\"order_method\", connectie_sales)\n",
    "target = select_from(\"SALES_TARGETData\", connectie_sales)\n",
    "returned_item = select_from(\"returned_item\", connectie_sales)\n",
    "return_reason = select_from_with_surrogate(\"return_reason\", connectie_sales)\n",
    "sales_target = select_from(\"SALES_TARGETData\", connectie_sales)\n",
    "\n",
    "product"
   ],
   "metadata": {
    "collapsed": false,
    "ExecuteTime": {
     "end_time": "2024-03-18T13:17:23.381192900Z",
     "start_time": "2024-03-18T13:17:22.451953800Z"
    }
   },
   "id": "6903c3026d5c8d50",
   "execution_count": 4
  },
  {
   "cell_type": "code",
   "outputs": [],
   "source": [
    "connectie_staff = sqlite3.connect('go_staff.sqlite')\n",
    "\n",
    "course = select_from_with_surrogate(\"course\", connectie_staff)\n",
    "STAFF_sales_staff = select_from(\"sales_staff\", connectie_staff)\n",
    "STAFF_sales_branch = select_from(\"sales_branch\", connectie_staff)\n",
    "satisfaction = select_from(\"satisfaction\", connectie_staff)\n",
    "satisfaction_type = select_from_with_surrogate(\"satisfaction_type\", connectie_staff)\n",
    "training = select_from(\"training\", connectie_staff)"
   ],
   "metadata": {
    "collapsed": false,
    "ExecuteTime": {
     "end_time": "2024-03-18T13:17:23.502925800Z",
     "start_time": "2024-03-18T13:17:23.366630800Z"
    }
   },
   "id": "c30411cd40a92b09",
   "execution_count": 5
  },
  {
   "cell_type": "code",
   "outputs": [],
   "source": [
    "connectie_crm = sqlite3.connect('go_crm.sqlite')\n",
    "\n",
    "age_group = select_from(\"age_group\", connectie_crm)\n",
    "CRM_country = select_from(\"country\", connectie_crm)\n",
    "retailer = select_from(\"retailer\", connectie_crm)\n",
    "retailer_contact = select_from(\"retailer_contact\", connectie_crm)\n",
    "retailer_headquarters = select_from(\"retailer_headquarters\", connectie_crm)\n",
    "retailer_segment = select_from(\"retailer_segment\", connectie_crm)\n",
    "CRM_retailer_site = select_from_with_surrogate(\"retailer_site\", connectie_crm)\n",
    "retailer_type = select_from(\"retailer_type\", connectie_crm)\n",
    "sales_demographic = select_from(\"sales_demographic\", connectie_crm)\n",
    "sales_territory = select_from(\"sales_territory\", connectie_crm)"
   ],
   "metadata": {
    "collapsed": false,
    "ExecuteTime": {
     "end_time": "2024-03-18T13:17:23.505838300Z",
     "start_time": "2024-03-18T13:17:23.400162600Z"
    }
   },
   "id": "7027ebc3c3a4876b",
   "execution_count": 6
  },
  {
   "cell_type": "code",
   "outputs": [],
   "source": [
    "# CSV files\n",
    "inventory_levels = pd.read_csv('GO_SALES_INVENTORY_LEVELSData.csv')\n",
    "product_forecast = pd.read_csv('GO_SALES_PRODUCT_FORECASTData.csv')"
   ],
   "metadata": {
    "collapsed": false,
    "ExecuteTime": {
     "end_time": "2024-03-18T13:17:23.690265100Z",
     "start_time": "2024-03-18T13:17:23.448363400Z"
    }
   },
   "id": "fdf085d534e34793",
   "execution_count": 7
  },
  {
   "cell_type": "code",
   "outputs": [],
   "source": [
    "# Merge similar tables\n",
    "sales_staff = merge_differing_columns_simple(STAFF_sales_staff, SALES_sales_staff, 'SALES_STAFF_sales_staff_code')\n",
    "sales_branch = merge_differing_columns_simple(SALES_sales_branch, STAFF_sales_branch, 'SALES_BRANCH_sales_branch_code')\n",
    "SALES_country.rename({'COUNTRY_country': 'COUNTRY_country_en'}, axis=1, inplace=True)\n",
    "country = merge_differing_columns_simple(SALES_country, CRM_country, 'COUNTRY_country_code')\n",
    "retailer_site = merge_differing_columns_simple(SALES_retailer_site, CRM_retailer_site, 'RETAILER_SITE_retailer_site_code')"
   ],
   "metadata": {
    "collapsed": false,
    "ExecuteTime": {
     "end_time": "2024-03-18T13:17:23.773741700Z",
     "start_time": "2024-03-18T13:17:23.471864500Z"
    }
   },
   "id": "b9f581b62b7ec28a",
   "execution_count": 8
  },
  {
   "cell_type": "markdown",
   "source": [
    "# Nina"
   ],
   "metadata": {
    "collapsed": false
   },
   "id": "b3df4e2ab065c6e7"
  },
  {
   "cell_type": "code",
   "outputs": [],
   "source": [
    "# PRODUCT\n",
    "output_PRODUCT = pd.merge(product, product_type, left_on='PRODUCT_product_type_code', right_on='PRODUCT_TYPE_product_type_code', how='left')\n",
    "output_PRODUCT.drop('PRODUCT_TYPE_product_type_code', axis=1, inplace=True)\n",
    "output_PRODUCT = pd.merge(output_PRODUCT, product_line, left_on='PRODUCT_TYPE_product_line_code', right_on='PRODUCT_LINE_product_line_code', how='left')\n",
    "output_PRODUCT.drop('PRODUCT_LINE_product_line_code', axis=1, inplace=True)\n",
    "send_to_ssms(output_PRODUCT, 'PRODUCT', export_cursor, export_conn)\n",
    "\n",
    "# RETURN_REASON\n",
    "output_RETURN_REASON = return_reason\n",
    "send_to_ssms(output_RETURN_REASON, 'RETURN_REASON', export_cursor, export_conn)\n",
    "\n",
    "# SALES_TARGETData\n",
    "output_SALES_TARGETData = sales_target\n",
    "send_to_ssms(output_SALES_TARGETData, 'SALES_TARGETData', export_cursor, export_conn)\n",
    "\n",
    "# PRODUCT_FORECASTData\n",
    "output_PRODUCT_FORECASTData = product_forecast\n",
    "output_PRODUCT_FORECASTData.rename({'PRODUCT_NUMBER': 'PRODUCT_FORECASTData_product_number', 'YEAR': 'PRODUCT_FORECASTData_year', 'MONTH': 'PRODUCT_FORECASTData_month', 'EXPECTED_VOLUME': 'PRODUCT_FORECASTData_expected_volume'}, axis=1, inplace=True)\n",
    "send_to_ssms(output_PRODUCT_FORECASTData, 'PRODUCT_FORECASTData', export_cursor, export_conn)\n",
    "\n",
    "# INVENTORY_LEVELSData\n",
    "output_INVENTORY_LEVELSData = inventory_levels\n",
    "output_INVENTORY_LEVELSData.rename({'INVENTORY_YEAR': 'INVENTORY_LEVELSData_inventory_year', 'INVENTORY_MONTH': 'INVENTORY_LEVELSData_inventory_month', 'PRODUCT_NUMBER': 'INVENTORY_LEVELSData_product_number', 'INVENTORY_COUNT': 'INVENTORY_LEVELSData_inventory_count'}, axis=1, inplace=True)\n",
    "send_to_ssms(output_INVENTORY_LEVELSData, 'INVENTORY_LEVELSData', export_cursor, export_conn)\n",
    "\n",
    "# SALES_STAFF\n",
    "output_SALES_STAFF = pd.merge(sales_staff, sales_branch, left_on='SALES_STAFF_sales_branch_code', right_on='SALES_BRANCH_sales_branch_code')\n",
    "output_SALES_STAFF.drop('SALES_BRANCH_sales_branch_code', axis=1, inplace=True)\n",
    "output_SALES_STAFF = pd.merge(output_SALES_STAFF, country, left_on='SALES_BRANCH_country_code', right_on='COUNTRY_country_code')\n",
    "output_SALES_STAFF.drop('COUNTRY_country_code', axis=1, inplace=True)\n",
    "send_to_ssms(output_SALES_STAFF, 'SALES_STAFF', export_cursor, export_conn)\n",
    "\n",
    "# ORDER_DETAILS\n",
    "output_ORDER_DETAILS = pd.merge(order_details, order_header, left_on='ORDER_DETAILS_order_number', right_on='ORDER_HEADER_order_number')\n",
    "output_ORDER_DETAILS.drop('ORDER_HEADER_order_number', axis=1, inplace=True)\n",
    "send_to_ssms(output_ORDER_DETAILS, 'ORDER_DETAILS', export_cursor, export_conn)\n",
    "\n",
    "# RETURNED_ITEM\n",
    "output_RETURNED_ITEM = returned_item\n",
    "send_to_ssms_upper(output_RETURNED_ITEM, 'RETURNED_ITEM', export_cursor, export_conn)\n",
    "\n",
    "# ORDER METHOD\n",
    "output_ORDER_METHOD = order_method\n",
    "send_to_ssms(output_ORDER_METHOD, 'ORDER_METHOD', export_cursor, export_conn)\n",
    "\n",
    "export_cursor.commit()\n",
    "export_conn.close()"
   ],
   "metadata": {
    "collapsed": false,
    "ExecuteTime": {
     "end_time": "2024-03-18T13:18:12.254431200Z",
     "start_time": "2024-03-18T13:17:23.505838300Z"
    }
   },
   "id": "d01b4c4be4c48075",
   "execution_count": 9
  },
  {
   "cell_type": "markdown",
   "source": [
    "# Yemeserach"
   ],
   "metadata": {
    "collapsed": false
   },
   "id": "cae0a27d32275659"
  },
  {
   "cell_type": "code",
   "outputs": [],
   "source": [
    "# RETAILER_SITE\n",
    "output_RETAILER_SITE = pd.merge(retailer, retailer_type, left_on='RETAILER_retailer_type_code', right_on='RETAILER_TYPE_retailer_type_code', how='left')\n",
    "output_RETAILER_SITE.drop('RETAILER_TYPE_retailer_type_code', axis=1, inplace=True)\n",
    "output_RETAILER_SITE = pd.merge(output_RETAILER_SITE, retailer_site, left_on='RETAILER_retailer_code', right_on='RETAILER_SITE_retailer_code',  how='left')\n",
    "output_RETAILER_SITE.drop('RETAILER_retailer_code', axis=1, inplace=True)\n",
    "\n",
    "# COURSE\n",
    "output_COURSE = course\n",
    "\n",
    "# SATISFACTION_TYPE\n",
    "output_SATISFACTION_TYPE = satisfaction_type\n",
    "\n",
    "# SATISFACTION\n",
    "output_SATISFACTION = satisfaction\n",
    "\n",
    "# TRAINING \n",
    "output_training = training\n",
    "\n",
    "# ORDER_METHOD \n",
    "output_order_method = order_method"
   ],
   "metadata": {
    "collapsed": false,
    "ExecuteTime": {
     "end_time": "2024-03-18T13:18:12.274223300Z",
     "start_time": "2024-03-18T13:18:12.255402300Z"
    }
   },
   "id": "d16c3f0ff0c7047b",
   "execution_count": 10
  }
 ],
 "metadata": {
  "kernelspec": {
   "display_name": "Python 3",
   "language": "python",
   "name": "python3"
  },
  "language_info": {
   "codemirror_mode": {
    "name": "ipython",
    "version": 2
   },
   "file_extension": ".py",
   "mimetype": "text/x-python",
   "name": "python",
   "nbconvert_exporter": "python",
   "pygments_lexer": "ipython2",
   "version": "2.7.6"
  }
 },
 "nbformat": 4,
 "nbformat_minor": 5
}
