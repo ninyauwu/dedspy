{
 "cells": [
  {
   "cell_type": "code",
   "execution_count": 61,
   "id": "initial_id",
   "metadata": {
    "collapsed": true,
    "ExecuteTime": {
     "end_time": "2024-03-11T13:27:43.770808900Z",
     "start_time": "2024-03-11T13:27:43.730059500Z"
    }
   },
   "outputs": [],
   "source": [
    "import pandas as pd\n",
    "import pyodbc\n",
    "import sqlite3"
   ]
  },
  {
   "cell_type": "markdown",
   "source": [
    "# Connection"
   ],
   "metadata": {
    "collapsed": false
   },
   "id": "f83c796d33858297"
  },
  {
   "cell_type": "code",
   "outputs": [
    {
     "data": {
      "text/plain": "<pyodbc.Cursor at 0x243a1862730>"
     },
     "execution_count": 62,
     "metadata": {},
     "output_type": "execute_result"
    }
   ],
   "source": [
    "DB = {\"servername\": \"MSI\\\\SQLEXPRESS\",\n",
    "      \"database\": \"DEDSDatabase1\"}\n",
    "\n",
    "export_conn = pyodbc.connect('DRIVER={SQL SERVER};SERVER=' + DB['servername'] + \n",
    "                             ';DATABASE=' + DB['database'] + ';Trusted_Connection=yes')\n",
    "export_cursor = export_conn.cursor()\n",
    "export_cursor"
   ],
   "metadata": {
    "collapsed": false,
    "ExecuteTime": {
     "end_time": "2024-03-11T13:27:43.791792800Z",
     "start_time": "2024-03-11T13:27:43.775662800Z"
    }
   },
   "id": "5599548782bf7666",
   "execution_count": 62
  },
  {
   "cell_type": "code",
   "outputs": [],
   "source": [
    "def select_from(name, connection):\n",
    "      dataframe = pd.read_sql_query(\"SELECT * FROM \" + name, connection)\n",
    "      \n",
    "      columni = {}\n",
    "      for column in dataframe.columns:\n",
    "            columni[column] = name.upper() + \"_\" + column.lower()\n",
    "      dataframe.rename(columns=columni, inplace=True)\n",
    "      return dataframe\n",
    "      \n",
    "\n",
    "def find_mutual_columns(dataset1, dataset2):\n",
    "      column_names = set([])\n",
    "      mutual_column_names = []\n",
    "      for column in dataset1:\n",
    "            column_names.add(column)\n",
    "      for column in dataset2:\n",
    "            if column in column_names:\n",
    "                  mutual_column_names.append(column)\n",
    "      return mutual_column_names\n",
    "\n",
    "def merge_differing_columns_simple(dataframe1, dataframe2, key):\n",
    "      # Pak de unieke columns uit de tweede dataframe\n",
    "      column_names1 = set(dataframe1.columns)\n",
    "      column_names2 = set(dataframe2.columns)\n",
    "      uniques_from_2 = [key]\n",
    "      for column in column_names2:\n",
    "            if column not in column_names1:\n",
    "                  uniques_from_2.append(column)\n",
    "      \n",
    "      # Merge deze met de eerste dataframe\n",
    "      return pd.merge(dataframe1, dataframe2.loc[:, uniques_from_2], on=key, how='left')\n",
    "\n",
    "def merge_differing_columns(dataframe1, dataframe2, left_key, right_key):\n",
    "      # Pak de unieke columns uit de tweede dataframe\n",
    "      column_names1 = set(dataframe1.columns)\n",
    "      column_names2 = set(dataframe2.columns)\n",
    "      uniques_from_2 = [right_key]\n",
    "      for column in column_names2:\n",
    "            if column not in column_names1:\n",
    "                  uniques_from_2.append(column)\n",
    "      \n",
    "      # Merge deze met de eerste dataframe\n",
    "      return pd.merge(dataframe1, dataframe2.loc[:, uniques_from_2], left_on=left_key, right_on=right_key, how='left')"
   ],
   "metadata": {
    "collapsed": false,
    "ExecuteTime": {
     "end_time": "2024-03-11T13:27:43.800731700Z",
     "start_time": "2024-03-11T13:27:43.790819800Z"
    }
   },
   "id": "2fe2cbafb70042bf",
   "execution_count": 63
  },
  {
   "cell_type": "code",
   "outputs": [],
   "source": [
    "connectie_sales = sqlite3.connect('go_sales.sqlite')\n",
    "sql_query = \"SELECT name FROM sqlite_master WHERE type='table';\"\n",
    "\n",
    "product = select_from(\"product\", connectie_sales)\n",
    "product_type = select_from(\"product_type\", connectie_sales)\n",
    "product_line = select_from(\"product_line\", connectie_sales)\n",
    "SALES_sales_staff = select_from(\"sales_staff\", connectie_sales)\n",
    "SALES_sales_branch = select_from(\"sales_branch\", connectie_sales)\n",
    "SALES_retailer_site = select_from(\"retailer_site\", connectie_sales)\n",
    "SALES_country = select_from(\"country\", connectie_sales)\n",
    "order_header = select_from(\"order_header\", connectie_sales)\n",
    "order_details = select_from(\"order_details\", connectie_sales)\n",
    "target = select_from(\"SALES_TARGETData\", connectie_sales)\n",
    "returned_item = select_from(\"returned_item\", connectie_sales)\n",
    "return_reason = select_from(\"return_reason\", connectie_sales)"
   ],
   "metadata": {
    "collapsed": false,
    "ExecuteTime": {
     "end_time": "2024-03-11T13:27:44.141803900Z",
     "start_time": "2024-03-11T13:27:43.804612100Z"
    }
   },
   "id": "6903c3026d5c8d50",
   "execution_count": 64
  },
  {
   "cell_type": "code",
   "outputs": [],
   "source": [
    "connectie_staff = sqlite3.connect('go_staff.sqlite')\n",
    "\n",
    "course = select_from(\"course\", connectie_staff)\n",
    "STAFF_sales_staff = select_from(\"sales_staff\", connectie_staff)\n",
    "STAFF_sales_branch = select_from(\"sales_branch\", connectie_staff)\n",
    "satisfaction = select_from(\"satisfaction\", connectie_staff)\n",
    "satisfaction_type = select_from(\"satisfaction_type\", connectie_staff)\n",
    "training = select_from(\"training\", connectie_staff)"
   ],
   "metadata": {
    "collapsed": false,
    "ExecuteTime": {
     "end_time": "2024-03-11T13:27:44.161748200Z",
     "start_time": "2024-03-11T13:27:44.146689200Z"
    }
   },
   "id": "c30411cd40a92b09",
   "execution_count": 65
  },
  {
   "cell_type": "code",
   "outputs": [],
   "source": [
    "connectie_crm = sqlite3.connect('go_crm.sqlite')\n",
    "\n",
    "age_group = select_from(\"age_group\", connectie_crm)\n",
    "CRM_country = select_from(\"country\", connectie_crm)\n",
    "retailer = select_from(\"retailer\", connectie_crm)\n",
    "retailer_contact = select_from(\"retailer_contact\", connectie_crm)\n",
    "retailer_headquarters = select_from(\"retailer_headquarters\", connectie_crm)\n",
    "retailer_segment = select_from(\"retailer_segment\", connectie_crm)\n",
    "CRM_retailer_site = select_from(\"retailer_site\", connectie_crm)\n",
    "retailer_type = select_from(\"retailer_type\", connectie_crm)\n",
    "sales_demographic = select_from(\"sales_demographic\", connectie_crm)\n",
    "sales_territory = select_from(\"sales_territory\", connectie_crm)"
   ],
   "metadata": {
    "collapsed": false,
    "ExecuteTime": {
     "end_time": "2024-03-11T13:27:44.192185800Z",
     "start_time": "2024-03-11T13:27:44.166575400Z"
    }
   },
   "id": "7027ebc3c3a4876b",
   "execution_count": 66
  },
  {
   "cell_type": "code",
   "outputs": [],
   "source": [
    "# CSV files\n",
    "inventory_levels = pd.read_csv('GO_SALES_INVENTORY_LEVELSData.csv')\n",
    "product_forecast = pd.read_csv('GO_SALES_PRODUCT_FORECASTData.csv')"
   ],
   "metadata": {
    "collapsed": false,
    "ExecuteTime": {
     "end_time": "2024-03-11T13:27:44.206746300Z",
     "start_time": "2024-03-11T13:27:44.196069700Z"
    }
   },
   "id": "fdf085d534e34793",
   "execution_count": 67
  },
  {
   "cell_type": "code",
   "outputs": [],
   "source": [
    "# Merge similar tables\n",
    "sales_staff = merge_differing_columns_simple(STAFF_sales_staff, SALES_sales_staff, 'SALES_STAFF_sales_staff_code')\n",
    "sales_branch = merge_differing_columns_simple(SALES_sales_branch, STAFF_sales_branch, 'SALES_BRANCH_sales_branch_code')\n",
    "country = merge_differing_columns_simple(SALES_country, CRM_country, 'COUNTRY_country_code')\n",
    "retailer_site = merge_differing_columns_simple(SALES_retailer_site, CRM_retailer_site, 'RETAILER_SITE_retailer_site_code')"
   ],
   "metadata": {
    "collapsed": false,
    "ExecuteTime": {
     "end_time": "2024-03-11T13:27:44.226932500Z",
     "start_time": "2024-03-11T13:27:44.218195500Z"
    }
   },
   "id": "b9f581b62b7ec28a",
   "execution_count": 68
  },
  {
   "cell_type": "code",
   "outputs": [],
   "source": [
    "#output_PRODUCT = pd.merge(product, product_type, on='PRODUCT_TYPE_CODE')\n",
    "\n",
    "#select_from(\"retailer_site\", connectie_crm)"
   ],
   "metadata": {
    "collapsed": false,
    "ExecuteTime": {
     "end_time": "2024-03-11T13:27:44.227901700Z",
     "start_time": "2024-03-11T13:27:44.221108700Z"
    }
   },
   "id": "d01b4c4be4c48075",
   "execution_count": 69
  }
 ],
 "metadata": {
  "kernelspec": {
   "display_name": "Python 3",
   "language": "python",
   "name": "python3"
  },
  "language_info": {
   "codemirror_mode": {
    "name": "ipython",
    "version": 2
   },
   "file_extension": ".py",
   "mimetype": "text/x-python",
   "name": "python",
   "nbconvert_exporter": "python",
   "pygments_lexer": "ipython2",
   "version": "2.7.6"
  }
 },
 "nbformat": 4,
 "nbformat_minor": 5
}
