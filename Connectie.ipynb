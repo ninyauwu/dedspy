{
 "cells": [
  {
   "cell_type": "code",
   "execution_count": 264,
   "id": "initial_id",
   "metadata": {
    "collapsed": true,
    "ExecuteTime": {
     "end_time": "2024-03-11T11:59:15.197255100Z",
     "start_time": "2024-03-11T11:59:15.160980200Z"
    }
   },
   "outputs": [],
   "source": [
    "import pandas as pd\n",
    "import pyodbc\n",
    "import sqlite3"
   ]
  },
  {
   "cell_type": "markdown",
   "source": [
    "# Connection"
   ],
   "metadata": {
    "collapsed": false
   },
   "id": "f83c796d33858297"
  },
  {
   "cell_type": "code",
   "outputs": [
    {
     "data": {
      "text/plain": "<pyodbc.Cursor at 0x27713d149b0>"
     },
     "execution_count": 265,
     "metadata": {},
     "output_type": "execute_result"
    }
   ],
   "source": [
    "DB = {\"servername\": \"MSI\\\\SQLEXPRESS\",\n",
    "      \"database\": \"DEDSDatabase1\"}\n",
    "\n",
    "export_conn = pyodbc.connect('DRIVER={SQL SERVER};SERVER=' + DB['servername'] + \n",
    "                             ';DATABASE=' + DB['database'] + ';Trusted_Connection=yes')\n",
    "export_cursor = export_conn.cursor()\n",
    "export_cursor"
   ],
   "metadata": {
    "collapsed": false,
    "ExecuteTime": {
     "end_time": "2024-03-11T11:59:15.198227300Z",
     "start_time": "2024-03-11T11:59:15.178813300Z"
    }
   },
   "id": "5599548782bf7666",
   "execution_count": 265
  },
  {
   "cell_type": "code",
   "outputs": [],
   "source": [
    "connectie_sales = sqlite3.connect('go_sales.sqlite')\n",
    "sql_query = \"SELECT name FROM sqlite_master WHERE type='table';\"\n",
    "\n",
    "product = pd.read_sql_query(\"SELECT * FROM product\", connectie_sales)\n",
    "product_type = pd.read_sql_query(\"SELECT * FROM product_type\", connectie_sales)\n",
    "product_line = pd.read_sql_query(\"SELECT * FROM product_line\", connectie_sales)\n",
    "SALES_sales_staff = pd.read_sql_query(\"SELECT * FROM sales_staff\", connectie_sales)\n",
    "SALES_sales_branch = pd.read_sql_query(\"SELECT * FROM sales_branch\", connectie_sales)\n",
    "SALES_retailer_site = pd.read_sql_query(\"SELECT * FROM retailer_site\", connectie_sales)\n",
    "SALES_country = pd.read_sql_query(\"SELECT * FROM country\", connectie_sales)\n",
    "order_header = pd.read_sql_query(\"SELECT * FROM order_header\", connectie_sales)\n",
    "order_details = pd.read_sql_query(\"SELECT * FROM order_details\", connectie_sales)\n",
    "target = pd.read_sql_query(\"SELECT * FROM SALES_TARGETData\", connectie_sales)\n",
    "returned_item = pd.read_sql_query(\"SELECT * FROM returned_item\", connectie_sales)\n",
    "return_reason = pd.read_sql_query(\"SELECT * FROM return_reason\", connectie_sales)"
   ],
   "metadata": {
    "collapsed": false,
    "ExecuteTime": {
     "end_time": "2024-03-11T11:59:15.488893100Z",
     "start_time": "2024-03-11T11:59:15.202108100Z"
    }
   },
   "id": "6903c3026d5c8d50",
   "execution_count": 266
  },
  {
   "cell_type": "code",
   "outputs": [],
   "source": [
    "def find_mutual_columns(dataset1, dataset2):\n",
    "      column_names = set([])\n",
    "      mutual_column_names = []\n",
    "      for column in dataset1:\n",
    "            column_names.add(column)\n",
    "      for column in dataset2:\n",
    "            if column in column_names:\n",
    "                  mutual_column_names.append(column)\n",
    "      return mutual_column_names\n",
    "\n",
    "def merge_differing_columns(dataframe1, dataframe2, primary_key):\n",
    "      # Pak de unieke columns uit de tweede dataframe\n",
    "      column_names1 = set(dataframe1.columns)\n",
    "      column_names2 = set(dataframe2.columns)\n",
    "      uniques_from_2 = [primary_key]\n",
    "      for column in column_names2:\n",
    "            if column not in column_names1:\n",
    "                  uniques_from_2.append(column)\n",
    "      \n",
    "      # Merge deze met de eerste dataframe\n",
    "      return pd.merge(dataframe1, dataframe2.loc[:, uniques_from_2], on=primary_key, how='left')\n"
   ],
   "metadata": {
    "collapsed": false,
    "ExecuteTime": {
     "end_time": "2024-03-11T11:59:15.497907400Z",
     "start_time": "2024-03-11T11:59:15.493517500Z"
    }
   },
   "id": "c64c9b7a1c0d0199",
   "execution_count": 267
  },
  {
   "cell_type": "code",
   "outputs": [],
   "source": [
    "connectie_staff = sqlite3.connect('go_staff.sqlite')\n",
    "\n",
    "course = pd.read_sql_query(\"SELECT * FROM course\", connectie_staff)\n",
    "STAFF_sales_staff = pd.read_sql_query(\"SELECT * FROM sales_staff\", connectie_staff)\n",
    "STAFF_sales_branch = pd.read_sql_query(\"SELECT * FROM sales_branch\", connectie_staff)\n",
    "satisfaction = pd.read_sql_query(\"SELECT * FROM satisfaction\", connectie_staff)\n",
    "satisfaction_type = pd.read_sql_query(\"SELECT * FROM satisfaction_type\", connectie_staff)\n",
    "training = pd.read_sql_query(\"SELECT * FROM training\", connectie_staff)"
   ],
   "metadata": {
    "collapsed": false,
    "ExecuteTime": {
     "end_time": "2024-03-11T11:59:15.513868600Z",
     "start_time": "2024-03-11T11:59:15.495965800Z"
    }
   },
   "id": "c30411cd40a92b09",
   "execution_count": 268
  },
  {
   "cell_type": "code",
   "outputs": [],
   "source": [
    "connectie_crm = sqlite3.connect('go_crm.sqlite')\n",
    "\n",
    "age_group = pd.read_sql_query(\"SELECT * FROM age_group\", connectie_crm)\n",
    "CRM_country = pd.read_sql_query(\"SELECT * FROM country\", connectie_crm)\n",
    "retailer = pd.read_sql_query(\"SELECT * FROM retailer\", connectie_crm)\n",
    "retailer_contact = pd.read_sql_query(\"SELECT * FROM retailer_contact\", connectie_crm)\n",
    "retailer_headquarters = pd.read_sql_query(\"SELECT * FROM retailer_headquarters\", connectie_crm)\n",
    "retailer_segment = pd.read_sql_query(\"SELECT * FROM retailer_segment\", connectie_crm)\n",
    "CRM_retailer_site = pd.read_sql_query(\"SELECT * FROM retailer_site\", connectie_crm)\n",
    "retailer_type = pd.read_sql_query(\"SELECT * FROM retailer_type\", connectie_crm)\n",
    "sales_demographic = pd.read_sql_query(\"SELECT * FROM sales_demographic\", connectie_crm)\n",
    "sales_territory = pd.read_sql_query(\"SELECT * FROM sales_territory\", connectie_crm)"
   ],
   "metadata": {
    "collapsed": false,
    "ExecuteTime": {
     "end_time": "2024-03-11T11:59:15.531341600Z",
     "start_time": "2024-03-11T11:59:15.507074200Z"
    }
   },
   "id": "7027ebc3c3a4876b",
   "execution_count": 269
  },
  {
   "cell_type": "code",
   "outputs": [],
   "source": [
    "# CSV files\n",
    "inventory_levels = pd.read_csv('GO_SALES_INVENTORY_LEVELSData.csv')\n",
    "product_forecast = pd.read_csv('GO_SALES_PRODUCT_FORECASTData.csv')"
   ],
   "metadata": {
    "collapsed": false,
    "ExecuteTime": {
     "end_time": "2024-03-11T11:59:15.540714500Z",
     "start_time": "2024-03-11T11:59:15.531341600Z"
    }
   },
   "id": "fdf085d534e34793",
   "execution_count": 270
  },
  {
   "cell_type": "code",
   "outputs": [],
   "source": [
    "# Merge tables\n",
    "sales_staff = merge_differing_columns(STAFF_sales_staff, SALES_sales_staff, 'SALES_STAFF_CODE')\n",
    "sales_branch = merge_differing_columns(SALES_sales_branch, STAFF_sales_branch, 'SALES_BRANCH_CODE')\n",
    "country = merge_differing_columns(SALES_country, CRM_country, 'COUNTRY_CODE')\n",
    "retailer_site = merge_differing_columns(SALES_retailer_site, CRM_retailer_site, 'RETAILER_SITE_CODE')"
   ],
   "metadata": {
    "collapsed": false,
    "ExecuteTime": {
     "end_time": "2024-03-11T11:59:15.553528700Z",
     "start_time": "2024-03-11T11:59:15.542656900Z"
    }
   },
   "id": "b9f581b62b7ec28a",
   "execution_count": 271
  }
 ],
 "metadata": {
  "kernelspec": {
   "display_name": "Python 3",
   "language": "python",
   "name": "python3"
  },
  "language_info": {
   "codemirror_mode": {
    "name": "ipython",
    "version": 2
   },
   "file_extension": ".py",
   "mimetype": "text/x-python",
   "name": "python",
   "nbconvert_exporter": "python",
   "pygments_lexer": "ipython2",
   "version": "2.7.6"
  }
 },
 "nbformat": 4,
 "nbformat_minor": 5
}
